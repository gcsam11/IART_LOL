{
 "cells": [
  {
   "cell_type": "markdown",
   "metadata": {},
   "source": [
    "# Supervised Learning   \n",
    "\n",
    "## League of Legends SoloQ matches at 15 minutes 2024\n",
    "\n",
    "### Introduction\n",
    "\n",
    "#### Dataset\n",
    "\n",
    "This dataset was obtained from [Kaggle's LOL page](https://www.kaggle.com/datasets/karlorusovan/league-of-legends-soloq-matches-at-10-minutes-2024/data). The dataset contains data about the first 15 minutes of game play for over 24 thousand solo queue matches taken from european servers (EUNE and EUW).\n",
    "\n",
    "Average ELO of the matches is between mid emerald to high diamond, which represents the top 10% of players, therefore (hopefully) reducing the probability of a player doing a game-changing mistake.\n",
    "\n",
    "There are 14 features for red, and 14 features for the blue team (feature blueTeamFirstBlood counts for both teams since it tells us which team got the first kill), with the target feature being blueWin. blueWin == 1 indicates a victory of the blue team, and blueWin == 0 means that the red team won.\n",
    "\n",
    "#### Problem\n",
    "\n",
    "The main purpose of the dataset is to help train models to predict the winner based on how the first 15 minutes of the match played out.\n",
    "\n",
    "#### Solution\n",
    "\n",
    "We will train a supervised learning model using the aforementioned dataset. Therefore, the downloaded dataset will be split into a training and a test set, so that we can train the model and evaluate it afterwards. We will evaluate the model utilizing accuracy, precision, sensitivity and F-measure, depending on our needs."
   ]
  },
  {
   "cell_type": "markdown",
   "metadata": {},
   "source": [
    "### Libraries\n",
    "\n",
    "Please run this in the terminal inside the project's directory:\n",
    "\n",
    "```bash\n",
    "pip install -r requirements.txt\n",
    "```"
   ]
  },
  {
   "cell_type": "code",
   "execution_count": null,
   "metadata": {
    "vscode": {
     "languageId": "plaintext"
    }
   },
   "outputs": [],
   "source": [
    "import pandas as pd"
   ]
  }
 ],
 "metadata": {
  "language_info": {
   "name": "python"
  }
 },
 "nbformat": 4,
 "nbformat_minor": 2
}
